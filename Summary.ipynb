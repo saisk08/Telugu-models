{
 "cells": [
  {
   "cell_type": "code",
   "execution_count": 78,
   "metadata": {},
   "outputs": [],
   "source": [
    "import os\n",
    "from tabulate import tabulate\n",
    "from torch import load\n",
    "from pathlib import Path\n",
    "from IPython.display import clear_output"
   ]
  },
  {
   "cell_type": "code",
   "execution_count": 79,
   "metadata": {},
   "outputs": [],
   "source": [
    "def summary(exp_id):\n",
    "    root_sup = Path('Logs', exp_id, 'supervised')\n",
    "    root_tun = Path('Logs', exp_id, 'tuned')\n",
    "    model = ['resnet', 'dense', 'normal']\n",
    "    size = ['30', '50', '100', '150', '200']\n",
    "    for m in model:\n",
    "        for s in size:\n",
    "            supf_data = root_sup / 'data.txt'\n",
    "            supf_loss = root_sup / 'loss_vals.pth'\n",
    "            tunf_data = root_tun / 'data.txt'\n",
    "            tunf_loss = root_tun / 'loss_vals.pth'\n",
    "            if supf_loss.exists() and tunf_loss.exists():\n",
    "                clear_output(wait=True)\n",
    "                f = open(supf_data)\n",
    "                print(f.read())\n",
    "                f.close()\n",
    "                print(tabulate(load(supf_loss), tablefmt='pretty'))\n",
    "                f = open(tunf_data)\n",
    "                print(f.read())\n",
    "                f.close()\n",
    "                print(tabulate(load(tunf_loss), tablefmt='pretty'))\n",
    "                input('Press ')"
   ]
  },
  {
   "cell_type": "code",
   "execution_count": 80,
   "metadata": {},
   "outputs": [],
   "source": [
    "summary('new_test2')"
   ]
  },
  {
   "cell_type": "code",
   "execution_count": 87,
   "metadata": {},
   "outputs": [
    {
     "name": "stdout",
     "output_type": "stream",
     "text": [
      "Hello World!\n"
     ]
    }
   ],
   "source": [
    "from IPython.display import clear_output\n",
    "\n",
    "for i in range(10):\n",
    "    clear_output()\n",
    "    print(\"Hello World!\")"
   ]
  },
  {
   "cell_type": "code",
   "execution_count": null,
   "metadata": {},
   "outputs": [],
   "source": []
  }
 ],
 "metadata": {
  "kernelspec": {
   "display_name": "Python 3.7.6 64-bit ('torch': venv)",
   "language": "python",
   "name": "python37664bittorchvenvdd7f33210b4849498258a7128020a459"
  },
  "language_info": {
   "codemirror_mode": {
    "name": "ipython",
    "version": 3
   },
   "file_extension": ".py",
   "mimetype": "text/x-python",
   "name": "python",
   "nbconvert_exporter": "python",
   "pygments_lexer": "ipython3",
   "version": "3.7.6"
  }
 },
 "nbformat": 4,
 "nbformat_minor": 4
}
