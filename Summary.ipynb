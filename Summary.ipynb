{
 "cells": [
  {
   "cell_type": "code",
   "execution_count": 1,
   "metadata": {},
   "outputs": [],
   "source": [
    "import os\n",
    "from tabulate import tabulate\n",
    "from torch import load\n",
    "from pathlib import Path\n",
    "from IPython.display import clear_output, display\n",
    "import ipywidgets as widgets"
   ]
  },
  {
   "cell_type": "code",
   "execution_count": 2,
   "metadata": {},
   "outputs": [],
   "source": [
    "model = ['resnet', 'dense', 'normal']\n",
    "size = ['30', '50', '100', '150', '200']\n",
    "    \n",
    "def show(p, m, s, ver=None):\n",
    "    if ver is not None:\n",
    "        fp = p / ver / str(m) / str(s)\n",
    "    else:\n",
    "        fp = p / str(m) / str(s)\n",
    "    data = fp / 'data.txt'\n",
    "    loss = fp / 'loss_vals.pth'\n",
    "    if not loss.exists():\n",
    "        print(fp, 'does not exist\\n\\n')\n",
    "        return\n",
    "    f = open(data)\n",
    "    print(data)\n",
    "    f.close()\n",
    "    print(tabulate(load(loss), tablefmt='pretty'))\n",
    "    \n",
    "def summary(exp_id, m, s, b):\n",
    "    root_sup = Path('Logs', exp_id, 'supervised')\n",
    "    root_tun = Path('Logs', exp_id, 'tuned')\n",
    "    clear_output(wait=True)\n",
    "    clicked = False\n",
    "    show(root_sup, model[m], size[s])\n",
    "    show(root_tun, model[m], size[s], '1')\n",
    "    show(root_tun, model[m], size[s], '2')\n",
    "    display(b)"
   ]
  },
  {
   "cell_type": "code",
   "execution_count": 3,
   "metadata": {},
   "outputs": [],
   "source": [
    "class ButtonHandler:\n",
    "    def __init__(self, exp_id):\n",
    "        self.exp_id = exp_id\n",
    "        self.count = -1\n",
    "        \n",
    "    def click(self, button):\n",
    "        self.count += 1\n",
    "        if self.count < 15:\n",
    "            button.description = 'Next'\n",
    "            m, s = self.count // 5, self.count % 5\n",
    "            summary(self.exp_id, m, s, button)\n",
    "        else:\n",
    "            button.description = 'Done'\n",
    "            button.display??\n",
    "\n",
    "b = widgets.Button(\n",
    "    description='Start',\n",
    "    button_style='success'\n",
    ")\n",
    "\n",
    "\n",
    "def start(exp):\n",
    "    handler = ButtonHandler(exp)\n",
    "    b.on_click(handler.click)\n",
    "    display(b)\n",
    "    "
   ]
  },
  {
   "cell_type": "code",
   "execution_count": 4,
   "metadata": {},
   "outputs": [],
   "source": [
    "#start()"
   ]
  },
  {
   "cell_type": "code",
   "execution_count": null,
   "metadata": {},
   "outputs": [],
   "source": []
  }
 ],
 "metadata": {
  "kernelspec": {
   "display_name": "Python 3.7.6 64-bit ('torch': venv)",
   "language": "python",
   "name": "python37664bittorchvenvdd7f33210b4849498258a7128020a459"
  },
  "language_info": {
   "codemirror_mode": {
    "name": "ipython",
    "version": 3
   },
   "file_extension": ".py",
   "mimetype": "text/x-python",
   "name": "python",
   "nbconvert_exporter": "python",
   "pygments_lexer": "ipython3",
   "version": "3.7.6"
  }
 },
 "nbformat": 4,
 "nbformat_minor": 4
}
