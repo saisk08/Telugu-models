{
 "cells": [
  {
   "cell_type": "code",
   "execution_count": 1,
   "metadata": {},
   "outputs": [],
   "source": [
    "import matplotlib.pyplot as plt\n",
    "import pickle\n",
    "import numpy as np"
   ]
  },
  {
   "cell_type": "code",
   "execution_count": 2,
   "metadata": {},
   "outputs": [],
   "source": [
    "data = open('data/UHTelPCC.pkl', 'rb')"
   ]
  },
  {
   "cell_type": "code",
   "execution_count": 3,
   "metadata": {},
   "outputs": [],
   "source": [
    "data = pickle.load(data, encoding='latin-1')"
   ]
  },
  {
   "cell_type": "code",
   "execution_count": 4,
   "metadata": {},
   "outputs": [],
   "source": [
    "(train_x,train_y), (val_x,val_y), (test_x,test_y) = data"
   ]
  },
  {
   "cell_type": "code",
   "execution_count": 5,
   "metadata": {},
   "outputs": [
    {
     "data": {
      "text/plain": [
       "array([  1,   1,   1, ..., 507, 507, 507], dtype=uint16)"
      ]
     },
     "execution_count": 5,
     "metadata": {},
     "output_type": "execute_result"
    }
   ],
   "source": [
    "train_y"
   ]
  },
  {
   "cell_type": "code",
   "execution_count": 6,
   "metadata": {},
   "outputs": [],
   "source": [
    "req_labels = [1, 184, 284, 218, 229, 262, 240, 11, 98, 2, 5, 6, 8, 9, 195, 426, 173, 140, 204, 162, 38, 320, 151, 404]"
   ]
  },
  {
   "cell_type": "code",
   "execution_count": 7,
   "metadata": {},
   "outputs": [
    {
     "name": "stdout",
     "output_type": "stream",
     "text": [
      "(11324, 1024) (2229, 1024) (2229, 1024) [True, True, True]\n"
     ]
    }
   ],
   "source": [
    "n_train_x, n_train_y = list(), list()\n",
    "n_val_x, n_val_y = list(), list()\n",
    "n_test_x, n_test_y = list(), list()\n",
    "\n",
    "for val, label in zip(train_x, train_y):\n",
    "    if label in req_labels:\n",
    "        n_train_x += [val]\n",
    "        n_train_y += [label]\n",
    "        \n",
    "for val, label in zip(val_x, val_y):\n",
    "    if label in req_labels:\n",
    "        n_val_x += [val]\n",
    "        n_val_y += [label]\n",
    "        \n",
    "for val, label in zip(test_x, test_y):\n",
    "    if label in req_labels:\n",
    "        n_test_x += [val]\n",
    "        n_test_y += [label]\n",
    "\n",
    "num = [len(set(n_train_y)) == len(req_labels), len(set(n_val_y)) == len(req_labels), \n",
    "       len(set(n_test_y)) == len(req_labels)]\n",
    "n_train_x = np.array(n_train_x)\n",
    "n_train_y = np.array(n_train_y)\n",
    "n_val_x = np.array(n_val_x)\n",
    "n_val_y = np.array(n_val_y)\n",
    "n_test_x = np.array(n_test_x)\n",
    "n_test_y = np.array(n_test_y)\n",
    "\n",
    "print(n_train_x.shape, n_val_x.shape, n_test_x.shape, num)"
   ]
  },
  {
   "cell_type": "code",
   "execution_count": 8,
   "metadata": {},
   "outputs": [],
   "source": [
    "dump = [(n_train_x,n_train_y), (n_val_x,n_val_y), (n_test_x,n_test_y)]\n",
    "f = open('data/chars.pkl', 'wb')\n",
    "pickle.dump(dump, f)\n",
    "f.close()"
   ]
  },
  {
   "cell_type": "code",
   "execution_count": 9,
   "metadata": {},
   "outputs": [],
   "source": [
    "f = open('data/chars.pkl', 'rb')\n",
    "n_data = pickle.load(f)"
   ]
  },
  {
   "cell_type": "code",
   "execution_count": 10,
   "metadata": {},
   "outputs": [],
   "source": [
    "(train_x,train_y), (val_x,val_y), (test_x,test_y) = n_data"
   ]
  },
  {
   "cell_type": "code",
   "execution_count": 11,
   "metadata": {},
   "outputs": [],
   "source": [
    "if (val_x == test_x).all():\n",
    "    print(Yes)"
   ]
  },
  {
   "cell_type": "code",
   "execution_count": 12,
   "metadata": {},
   "outputs": [
    {
     "data": {
      "text/plain": [
       "(1716, 8)"
      ]
     },
     "execution_count": 12,
     "metadata": {},
     "output_type": "execute_result"
    }
   ],
   "source": [
    "count = np.array([np.count_nonzero(train_y == x) for x in req_labels])\n",
    "count.max(), count.min()"
   ]
  },
  {
   "cell_type": "code",
   "execution_count": 13,
   "metadata": {},
   "outputs": [
    {
     "data": {
      "text/plain": [
       "array([ 563, 1716,  436,  411,  573,  932, 1115,  109,  296,  175,  117,\n",
       "          8,  338,   70, 1148,   28,  386,  315,  257,  747, 1143,  253,\n",
       "        169,   19])"
      ]
     },
     "execution_count": 13,
     "metadata": {},
     "output_type": "execute_result"
    }
   ],
   "source": [
    "count"
   ]
  },
  {
   "cell_type": "code",
   "execution_count": 14,
   "metadata": {},
   "outputs": [],
   "source": [
    "count_val = np.array([np.count_nonzero(val_y == x) for x in req_labels])\n",
    "count_test = np.array([np.count_nonzero(test_y == x) for x in req_labels])"
   ]
  },
  {
   "cell_type": "code",
   "execution_count": 15,
   "metadata": {},
   "outputs": [
    {
     "data": {
      "text/plain": [
       "array([120, 305,  93,  87, 122, 174, 207,  23,  63,  37,  25,   1,  72,\n",
       "        15, 214,   5,  82,  67,  54, 159, 213,  53,  35,   3])"
      ]
     },
     "execution_count": 15,
     "metadata": {},
     "output_type": "execute_result"
    }
   ],
   "source": [
    "count_val"
   ]
  },
  {
   "cell_type": "code",
   "execution_count": 16,
   "metadata": {},
   "outputs": [
    {
     "data": {
      "text/plain": [
       "array([120, 305,  93,  87, 122, 174, 207,  23,  63,  37,  25,   1,  72,\n",
       "        15, 214,   5,  82,  67,  54, 159, 213,  53,  35,   3])"
      ]
     },
     "execution_count": 16,
     "metadata": {},
     "output_type": "execute_result"
    }
   ],
   "source": [
    "count_test"
   ]
  },
  {
   "cell_type": "code",
   "execution_count": 17,
   "metadata": {},
   "outputs": [
    {
     "name": "stdout",
     "output_type": "stream",
     "text": [
      "[ True  True  True  True  True  True  True  True  True  True  True  True\n",
      "  True  True  True  True  True  True  True  True  True  True  True  True]\n"
     ]
    },
    {
     "data": {
      "text/plain": [
       "array([2, 2, 0, 2, 2])"
      ]
     },
     "execution_count": 17,
     "metadata": {},
     "output_type": "execute_result"
    }
   ],
   "source": [
    "print(count_val == count_test); np.random.choice(3, 5)"
   ]
  },
  {
   "cell_type": "code",
   "execution_count": 18,
   "metadata": {},
   "outputs": [
    {
     "name": "stdout",
     "output_type": "stream",
     "text": [
      "(21,)\n",
      "(21,)\n",
      "(20,)\n",
      "(18,)\n",
      "(16,)\n",
      "\n",
      "(21,)\n",
      "(20,)\n",
      "(16,)\n",
      "(11,)\n",
      "(8,)\n",
      "\n",
      "(21,)\n",
      "(20,)\n",
      "(16,)\n",
      "(11,)\n",
      "(8,)\n"
     ]
    }
   ],
   "source": [
    "def numbers(c):\n",
    "    print(c[c > 30].shape)\n",
    "    print(c[c > 50].shape)    \n",
    "    print(c[c > 100].shape)    \n",
    "    print(c[c > 150].shape)    \n",
    "    print(c[c > 200].shape)\n",
    "    \n",
    "def numbers1(c):\n",
    "    print(c[c > 10].shape)\n",
    "    print(c[c > 20].shape)    \n",
    "    print(c[c > 50].shape)    \n",
    "    print(c[c > 80].shape)    \n",
    "    print(c[c > 100].shape)\n",
    "    \n",
    "numbers(count)\n",
    "print()\n",
    "numbers1(count_val)\n",
    "print()\n",
    "numbers1(count_test)"
   ]
  },
  {
   "cell_type": "code",
   "execution_count": 19,
   "metadata": {},
   "outputs": [],
   "source": [
    "def select_subset(size, arr):\n",
    "    # Select at random, duplicate the ones that are not enough\n",
    "    if size <= arr.shape[0]:\n",
    "        return arr[np.random.choice(arr.shape[0], size, replace=False)]\n",
    "    else:\n",
    "        return arr[np.random.choice(arr.shape[0], size)]"
   ]
  },
  {
   "cell_type": "code",
   "execution_count": 20,
   "metadata": {},
   "outputs": [
    {
     "data": {
      "text/plain": [
       "(30, 1024)"
      ]
     },
     "execution_count": 20,
     "metadata": {},
     "output_type": "execute_result"
    }
   ],
   "source": [
    "n_train_x[n_train_y == req_labels[0]].shape\n",
    "select_subset(30, n_train_x[n_train_y == req_labels[0]]).shape"
   ]
  },
  {
   "cell_type": "code",
   "execution_count": 26,
   "metadata": {},
   "outputs": [
    {
     "data": {
      "text/plain": [
       "(24, 30, 1024)"
      ]
     },
     "execution_count": 26,
     "metadata": {},
     "output_type": "execute_result"
    }
   ],
   "source": [
    "def create_dataset(data, labels, size):\n",
    "    arr = []\n",
    "    for i in range(len(req_labels)):\n",
    "        arr.append(select_subset(size, data[labels == req_labels[i]]))\n",
    "    return np.array(arr)\n",
    "    \n",
    "\n",
    "create_dataset(n_val_x, n_val_y, 30).shape"
   ]
  },
  {
   "cell_type": "code",
   "execution_count": 22,
   "metadata": {},
   "outputs": [
    {
     "data": {
      "text/plain": [
       "24"
      ]
     },
     "execution_count": 22,
     "metadata": {},
     "output_type": "execute_result"
    }
   ],
   "source": [
    "len(req_labels)"
   ]
  },
  {
   "cell_type": "code",
   "execution_count": 34,
   "metadata": {},
   "outputs": [
    {
     "name": "stdout",
     "output_type": "stream",
     "text": [
      "(24, 30, 1024) (24, 10, 1024) (24, 10, 1024)\n",
      "(24, 50, 1024) (24, 20, 1024) (24, 20, 1024)\n",
      "(24, 100, 1024) (24, 50, 1024) (24, 50, 1024)\n",
      "(24, 150, 1024) (24, 80, 1024) (24, 80, 1024)\n",
      "(24, 200, 1024) (24, 100, 1024) (24, 100, 1024)\n"
     ]
    }
   ],
   "source": [
    "for size1, size2 in zip([30, 50, 100, 150, 200], [10, 20, 50, 80, 100]):\n",
    "    train = create_dataset(n_train_x, n_train_y, size1)\n",
    "    val = create_dataset(n_val_x, n_val_y, size2)\n",
    "    test = create_dataset(n_test_x, n_test_y, size2)\n",
    "    print(train.shape, val.shape, test.shape)\n",
    "    f = open('data/supervised/chars_{}.pkl'.format(size), 'wb')\n",
    "    pickle.dump((train, val, test), f)\n",
    "    f.close()"
   ]
  },
  {
   "cell_type": "code",
   "execution_count": 25,
   "metadata": {},
   "outputs": [],
   "source": [
    "from itertools import combinations\n",
    "\n",
    "chars_labels = [(x, y) for x, y in list(combinations(req_labels, 2))]"
   ]
  },
  {
   "cell_type": "code",
   "execution_count": 33,
   "metadata": {},
   "outputs": [
    {
     "data": {
      "text/plain": [
       "(276, 2, 30, 1024)"
      ]
     },
     "execution_count": 33,
     "metadata": {},
     "output_type": "execute_result"
    }
   ],
   "source": [
    "def create_siamese(data, labels, size):\n",
    "    arr = []\n",
    "    for (x, y) in chars_labels:\n",
    "        temp = np.array([select_subset(size, data[labels == x]), select_subset(size, data[labels == y])])\n",
    "        arr.append(temp)\n",
    "    return np.array(arr)\n",
    "\n",
    "create_siamese(n_val_x, n_val_y, 30).shape"
   ]
  },
  {
   "cell_type": "code",
   "execution_count": 35,
   "metadata": {},
   "outputs": [
    {
     "data": {
      "text/plain": [
       "8280"
      ]
     },
     "execution_count": 35,
     "metadata": {},
     "output_type": "execute_result"
    }
   ],
   "source": [
    "276 * 30"
   ]
  },
  {
   "cell_type": "code",
   "execution_count": 43,
   "metadata": {},
   "outputs": [
    {
     "name": "stdout",
     "output_type": "stream",
     "text": [
      "275 29\n"
     ]
    }
   ],
   "source": [
    "x = 8279 // 30; y = 8219 // 276; print(x, y)"
   ]
  },
  {
   "cell_type": "code",
   "execution_count": 44,
   "metadata": {},
   "outputs": [
    {
     "name": "stdout",
     "output_type": "stream",
     "text": [
      "(276, 2, 30, 1024) (276, 2, 10, 1024) (276, 2, 10, 1024)\n",
      "(276, 2, 50, 1024) (276, 2, 20, 1024) (276, 2, 20, 1024)\n",
      "(276, 2, 100, 1024) (276, 2, 50, 1024) (276, 2, 50, 1024)\n",
      "(276, 2, 150, 1024) (276, 2, 80, 1024) (276, 2, 80, 1024)\n",
      "(276, 2, 200, 1024) (276, 2, 100, 1024) (276, 2, 100, 1024)\n"
     ]
    }
   ],
   "source": [
    "for size1, size2 in zip([30, 50, 100, 150, 200], [10, 20, 50, 80, 100]):\n",
    "    train = create_siamese(n_train_x, n_train_y, size1)\n",
    "    val = create_siamese(n_val_x, n_val_y, size2)\n",
    "    test = create_siamese(n_test_x, n_test_y, size2)\n",
    "    print(train.shape, val.shape, test.shape)\n",
    "    f = open('data/siamese/chars_{}.pkl'.format(size), 'wb')\n",
    "    pickle.dump((train, val, test), f)\n",
    "    f.close()"
   ]
  },
  {
   "cell_type": "code",
   "execution_count": 47,
   "metadata": {},
   "outputs": [
    {
     "name": "stdout",
     "output_type": "stream",
     "text": [
      "(300,)\n"
     ]
    },
    {
     "data": {
      "text/plain": [
       "(276,)"
      ]
     },
     "execution_count": 47,
     "metadata": {},
     "output_type": "execute_result"
    }
   ],
   "source": [
    "from scipy.spatial.distance import squareform\n",
    "\n",
    "a = np.arange(25)\n",
    "ap = np.array([x * y for x, y in list(combinations(req_labels + [500], 2))])\n",
    "print(ap.shape)\n",
    "am = squareform(ap)\n",
    "n_am = np.delete(am, 9, 0)\n",
    "n_am = np.delete(n_am, 9, 1)\n",
    "squareform(n_am).shape"
   ]
  },
  {
   "cell_type": "code",
   "execution_count": null,
   "metadata": {},
   "outputs": [],
   "source": []
  }
 ],
 "metadata": {
  "kernelspec": {
   "display_name": "Python 3",
   "language": "python",
   "name": "python3"
  },
  "language_info": {
   "codemirror_mode": {
    "name": "ipython",
    "version": 3
   },
   "file_extension": ".py",
   "mimetype": "text/x-python",
   "name": "python",
   "nbconvert_exporter": "python",
   "pygments_lexer": "ipython3",
   "version": "3.7.6"
  }
 },
 "nbformat": 4,
 "nbformat_minor": 4
}
