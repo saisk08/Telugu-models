{
 "cells": [
  {
   "cell_type": "code",
   "execution_count": 2,
   "metadata": {},
   "outputs": [],
   "source": [
    "import matplotlib.pyplot as plt\n",
    "import pickle\n",
    "import numpy as np"
   ]
  },
  {
   "cell_type": "code",
   "execution_count": 3,
   "metadata": {},
   "outputs": [],
   "source": [
    "data = open('data/UHTelPCC.pkl', 'rb')"
   ]
  },
  {
   "cell_type": "code",
   "execution_count": 4,
   "metadata": {},
   "outputs": [],
   "source": [
    "data = pickle.load(data, encoding='latin-1')"
   ]
  },
  {
   "cell_type": "code",
   "execution_count": 5,
   "metadata": {},
   "outputs": [],
   "source": [
    "(train_x,train_y), (val_x,val_y), (test_x,test_y) = data"
   ]
  },
  {
   "cell_type": "code",
   "execution_count": 6,
   "metadata": {},
   "outputs": [
    {
     "data": {
      "text/plain": [
       "array([  1,   1,   1, ..., 507, 507, 507], dtype=uint16)"
      ]
     },
     "execution_count": 6,
     "metadata": {},
     "output_type": "execute_result"
    }
   ],
   "source": [
    "train_y"
   ]
  },
  {
   "cell_type": "code",
   "execution_count": 7,
   "metadata": {},
   "outputs": [],
   "source": [
    "req_labels = [1, 2, 5, 6,8, 9, 11, 38, 98, 140, 151, 162, 173, 184, 195, 204, 218, 229, 240, 262, 284, 306, 320,\n",
    "404, 426, 441]"
   ]
  },
  {
   "cell_type": "code",
   "execution_count": 9,
   "metadata": {},
   "outputs": [
    {
     "name": "stdout",
     "output_type": "stream",
     "text": [
      "(11581, 1024) (2283, 1024) (2283, 1024) [True, True, True]\n"
     ]
    }
   ],
   "source": [
    "n_train_x, n_train_y = list(), list()\n",
    "n_val_x, n_val_y = list(), list()\n",
    "n_test_x, n_test_y = list(), list()\n",
    "\n",
    "for val, label in zip(train_x, train_y):\n",
    "    if label in req_labels:\n",
    "        n_train_x += [val]\n",
    "        n_train_y += [label]\n",
    "        \n",
    "for val, label in zip(val_x, val_y):\n",
    "    if label in req_labels:\n",
    "        n_val_x += [val]\n",
    "        n_val_y += [label]\n",
    "        \n",
    "for val, label in zip(test_x, test_y):\n",
    "    if label in req_labels:\n",
    "        n_test_x += [val]\n",
    "        n_test_y += [label]\n",
    "\n",
    "num = [len(set(n_train_y)) == len(req_labels), len(set(n_val_y)) == len(req_labels), \n",
    "       len(set(n_test_y)) == len(req_labels)]\n",
    "n_train_x = np.array(n_train_x)\n",
    "n_train_y = np.array(n_train_y)\n",
    "n_val_x = np.array(n_val_x)\n",
    "n_val_y = np.array(n_val_y)\n",
    "n_test_x = np.array(n_test_x)\n",
    "n_test_y = np.array(n_test_y)\n",
    "\n",
    "print(n_train_x.shape, n_val_x.shape, n_test_x.shape, num)"
   ]
  },
  {
   "cell_type": "code",
   "execution_count": 10,
   "metadata": {},
   "outputs": [],
   "source": [
    "dump = [(n_train_x,n_train_y), (n_val_x,n_val_y), (n_test_x,n_test_y)]\n",
    "f = open('data/chars.pkl', 'wb')\n",
    "pickle.dump(dump, f)\n",
    "f.close()"
   ]
  },
  {
   "cell_type": "code",
   "execution_count": 11,
   "metadata": {},
   "outputs": [],
   "source": [
    "f = open('data/chars.pkl', 'rb')\n",
    "n_data = pickle.load(f)"
   ]
  },
  {
   "cell_type": "code",
   "execution_count": 12,
   "metadata": {},
   "outputs": [],
   "source": [
    "(train_x,train_y), (val_x,val_y), (test_x,test_y) = n_data"
   ]
  },
  {
   "cell_type": "code",
   "execution_count": 14,
   "metadata": {},
   "outputs": [],
   "source": [
    "if (val_x == test_x).all():\n",
    "    print(Yes)"
   ]
  },
  {
   "cell_type": "code",
   "execution_count": 21,
   "metadata": {},
   "outputs": [
    {
     "data": {
      "text/plain": [
       "(1716, 8)"
      ]
     },
     "execution_count": 21,
     "metadata": {},
     "output_type": "execute_result"
    }
   ],
   "source": [
    "count = np.array([np.count_nonzero(train_y == x) for x in req_labels])\n",
    "count.max(), count.min()"
   ]
  },
  {
   "cell_type": "code",
   "execution_count": 22,
   "metadata": {},
   "outputs": [
    {
     "data": {
      "text/plain": [
       "array([ 563,  175,  117,    8,  338,   70,  109, 1143,  296,  315,  169,\n",
       "        747,  386, 1716, 1148,  257,  411,  573, 1115,  932,  436,  225,\n",
       "        253,   19,   28,   32])"
      ]
     },
     "execution_count": 22,
     "metadata": {},
     "output_type": "execute_result"
    }
   ],
   "source": [
    "count"
   ]
  },
  {
   "cell_type": "code",
   "execution_count": 24,
   "metadata": {},
   "outputs": [],
   "source": [
    "count_val = np.array([np.count_nonzero(val_y == x) for x in req_labels])\n",
    "count_test = np.array([np.count_nonzero(test_y == x) for x in req_labels])"
   ]
  },
  {
   "cell_type": "code",
   "execution_count": 25,
   "metadata": {},
   "outputs": [
    {
     "data": {
      "text/plain": [
       "array([120,  37,  25,   1,  72,  15,  23, 213,  63,  67,  35, 159,  82,\n",
       "       305, 214,  54,  87, 122, 207, 174,  93,  48,  53,   3,   5,   6])"
      ]
     },
     "execution_count": 25,
     "metadata": {},
     "output_type": "execute_result"
    }
   ],
   "source": [
    "count_val"
   ]
  },
  {
   "cell_type": "code",
   "execution_count": 26,
   "metadata": {},
   "outputs": [
    {
     "data": {
      "text/plain": [
       "array([120,  37,  25,   1,  72,  15,  23, 213,  63,  67,  35, 159,  82,\n",
       "       305, 214,  54,  87, 122, 207, 174,  93,  48,  53,   3,   5,   6])"
      ]
     },
     "execution_count": 26,
     "metadata": {},
     "output_type": "execute_result"
    }
   ],
   "source": [
    "count_test"
   ]
  },
  {
   "cell_type": "code",
   "execution_count": 27,
   "metadata": {},
   "outputs": [
    {
     "data": {
      "text/plain": [
       "array([ True,  True,  True,  True,  True,  True,  True,  True,  True,\n",
       "        True,  True,  True,  True,  True,  True,  True,  True,  True,\n",
       "        True,  True,  True,  True,  True,  True,  True,  True])"
      ]
     },
     "execution_count": 27,
     "metadata": {},
     "output_type": "execute_result"
    }
   ],
   "source": [
    "count_val == count_test"
   ]
  },
  {
   "cell_type": "code",
   "execution_count": null,
   "metadata": {},
   "outputs": [],
   "source": []
  }
 ],
 "metadata": {
  "kernelspec": {
   "display_name": "Python 3",
   "language": "python",
   "name": "python3"
  },
  "language_info": {
   "codemirror_mode": {
    "name": "ipython",
    "version": 3
   },
   "file_extension": ".py",
   "mimetype": "text/x-python",
   "name": "python",
   "nbconvert_exporter": "python",
   "pygments_lexer": "ipython3",
   "version": "3.7.6"
  }
 },
 "nbformat": 4,
 "nbformat_minor": 4
}
